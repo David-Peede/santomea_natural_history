{
 "cells": [
  {
   "cell_type": "markdown",
   "metadata": {},
   "source": [
    "# VCF QC & Summary"
   ]
  },
  {
   "cell_type": "code",
   "execution_count": 1,
   "metadata": {},
   "outputs": [],
   "source": [
    "# Import packages.\n",
    "import allel\n",
    "import numcodecs\n",
    "import zarr\n",
    "from functools import reduce\n",
    "import gzip\n",
    "from matplotlib import pyplot as plt\n",
    "import numpy as np\n",
    "import pandas as pd\n",
    "import re\n",
    "import math"
   ]
  },
  {
   "cell_type": "markdown",
   "metadata": {},
   "source": [
    "## QC"
   ]
  },
  {
   "cell_type": "code",
   "execution_count": 2,
   "metadata": {},
   "outputs": [
    {
     "data": {
      "text/html": [
       "<div>\n",
       "<style scoped>\n",
       "    .dataframe tbody tr th:only-of-type {\n",
       "        vertical-align: middle;\n",
       "    }\n",
       "\n",
       "    .dataframe tbody tr th {\n",
       "        vertical-align: top;\n",
       "    }\n",
       "\n",
       "    .dataframe thead th {\n",
       "        text-align: right;\n",
       "    }\n",
       "</style>\n",
       "<table border=\"1\" class=\"dataframe\">\n",
       "  <thead>\n",
       "    <tr style=\"text-align: right;\">\n",
       "      <th></th>\n",
       "      <th>strain</th>\n",
       "      <th>population</th>\n",
       "    </tr>\n",
       "  </thead>\n",
       "  <tbody>\n",
       "    <tr>\n",
       "      <th>0</th>\n",
       "      <td>BS14</td>\n",
       "      <td>san</td>\n",
       "    </tr>\n",
       "    <tr>\n",
       "      <th>1</th>\n",
       "      <td>C550_39</td>\n",
       "      <td>san</td>\n",
       "    </tr>\n",
       "    <tr>\n",
       "      <th>2</th>\n",
       "      <td>C650_14</td>\n",
       "      <td>san</td>\n",
       "    </tr>\n",
       "    <tr>\n",
       "      <th>3</th>\n",
       "      <td>CAR1600</td>\n",
       "      <td>san</td>\n",
       "    </tr>\n",
       "    <tr>\n",
       "      <th>4</th>\n",
       "      <td>Qiuja630.39</td>\n",
       "      <td>san</td>\n",
       "    </tr>\n",
       "    <tr>\n",
       "      <th>...</th>\n",
       "      <td>...</td>\n",
       "      <td>...</td>\n",
       "    </tr>\n",
       "    <tr>\n",
       "      <th>61</th>\n",
       "      <td>Bata2</td>\n",
       "      <td>tei</td>\n",
       "    </tr>\n",
       "    <tr>\n",
       "      <th>62</th>\n",
       "      <td>Bata8</td>\n",
       "      <td>tei</td>\n",
       "    </tr>\n",
       "    <tr>\n",
       "      <th>63</th>\n",
       "      <td>La_Lope_Gabon</td>\n",
       "      <td>tei</td>\n",
       "    </tr>\n",
       "    <tr>\n",
       "      <th>64</th>\n",
       "      <td>Selinda</td>\n",
       "      <td>tei</td>\n",
       "    </tr>\n",
       "    <tr>\n",
       "      <th>65</th>\n",
       "      <td>Zimbabwe</td>\n",
       "      <td>tei</td>\n",
       "    </tr>\n",
       "  </tbody>\n",
       "</table>\n",
       "<p>66 rows × 2 columns</p>\n",
       "</div>"
      ],
      "text/plain": [
       "           strain population\n",
       "0            BS14        san\n",
       "1         C550_39        san\n",
       "2         C650_14        san\n",
       "3         CAR1600        san\n",
       "4     Qiuja630.39        san\n",
       "..            ...        ...\n",
       "61          Bata2        tei\n",
       "62          Bata8        tei\n",
       "63  La_Lope_Gabon        tei\n",
       "64        Selinda        tei\n",
       "65       Zimbabwe        tei\n",
       "\n",
       "[66 rows x 2 columns]"
      ]
     },
     "execution_count": 2,
     "metadata": {},
     "output_type": "execute_result"
    }
   ],
   "source": [
    "# Read in meta data has a pandas dataframe.\n",
    "meta_df = pd.read_csv(\n",
    "    './matute_meta_data.txt',\n",
    "    sep='\\t',\n",
    "    names=['strain', 'population'],\n",
    ")\n",
    "# Extract the strains.\n",
    "strain_array = meta_df['strain'].values\n",
    "# Intialize a dictionary.\n",
    "idx_dicc = {}\n",
    "# For all populations.\n",
    "for pop in ['san', 'yak_symp', 'yak_allo', 'tei']:\n",
    "    # Fill the dictionary.\n",
    "    idx_dicc[pop] = meta_df[meta_df['population'] == pop].index.values\n",
    "meta_df"
   ]
  },
  {
   "cell_type": "code",
   "execution_count": 3,
   "metadata": {},
   "outputs": [],
   "source": [
    "# Define a function to load and extract information from a vcf file.\n",
    "def load_prefiltered_data(prefix):\n",
    "    # Intialize a path.\n",
    "    path = f'../zarrs/{prefix}/san_yak_tei_prefiltered.zarr'\n",
    "    # Load the vcf file.\n",
    "    callset = zarr.open_group(path, mode='r')\n",
    "    # Intialize a dictionary.\n",
    "    vcf_dicc = {}\n",
    "    # Extract the samples.\n",
    "    vcf_dicc['SAMPS'] = callset['samples']\n",
    "    # Extract the positions.\n",
    "    vcf_dicc['POS'] = callset['variants/POS']\n",
    "    # Extract the chromosomes.\n",
    "    vcf_dicc['CHROM'] = callset['variants/CHROM']\n",
    "    # Extract read depth.\n",
    "    vcf_dicc['DP'] = callset['variants/DP']\n",
    "    # Extract the genotypes.\n",
    "    vcf_dicc['GT'] = allel.GenotypeArray(callset['calldata/GT'])\n",
    "    return vcf_dicc"
   ]
  },
  {
   "cell_type": "code",
   "execution_count": 4,
   "metadata": {},
   "outputs": [],
   "source": [
    "# Load the data mapped to the san reference.\n",
    "san_dicc = load_prefiltered_data('san')\n",
    "# Load the data mapped to the yak reference.\n",
    "yak_dicc = load_prefiltered_data('yak')"
   ]
  },
  {
   "cell_type": "code",
   "execution_count": 5,
   "metadata": {},
   "outputs": [
    {
     "name": "stdout",
     "output_type": "stream",
     "text": [
      "it is True that the san samples are in the same order\n",
      "it is True that the yak samples are in the same order\n"
     ]
    }
   ],
   "source": [
    "# See if the samples are in the same order.\n",
    "print(\n",
    "    'it is {0} that the san samples are in the same order'.format(np.array_equal(strain_array, san_dicc['SAMPS'])),\n",
    ")\n",
    "print(\n",
    "    'it is {0} that the yak samples are in the same order'.format(np.array_equal(strain_array, yak_dicc['SAMPS'])),\n",
    ")"
   ]
  },
  {
   "cell_type": "code",
   "execution_count": 6,
   "metadata": {},
   "outputs": [
    {
     "data": {
      "text/html": [
       "<div class=\"allel allel-DisplayAs2D\"><span>&lt;GenotypeArray shape=(5547463, 66, 2) dtype=int8&gt;</span><table><thead><tr><th></th><th style=\"text-align: center\">0</th><th style=\"text-align: center\">1</th><th style=\"text-align: center\">2</th><th style=\"text-align: center\">3</th><th style=\"text-align: center\">4</th><th style=\"text-align: center\">...</th><th style=\"text-align: center\">61</th><th style=\"text-align: center\">62</th><th style=\"text-align: center\">63</th><th style=\"text-align: center\">64</th><th style=\"text-align: center\">65</th></tr></thead><tbody><tr><th style=\"text-align: center; background-color: white; border-right: 1px solid black; \">0</th><td style=\"text-align: center\">0/0</td><td style=\"text-align: center\">0/0</td><td style=\"text-align: center\">0/0</td><td style=\"text-align: center\">0/0</td><td style=\"text-align: center\">0/0</td><td style=\"text-align: center\">...</td><td style=\"text-align: center\">0/0</td><td style=\"text-align: center\">./.</td><td style=\"text-align: center\">0/0</td><td style=\"text-align: center\">0/0</td><td style=\"text-align: center\">0/0</td></tr><tr><th style=\"text-align: center; background-color: white; border-right: 1px solid black; \">1</th><td style=\"text-align: center\">0/0</td><td style=\"text-align: center\">0/0</td><td style=\"text-align: center\">0/0</td><td style=\"text-align: center\">0/0</td><td style=\"text-align: center\">0/0</td><td style=\"text-align: center\">...</td><td style=\"text-align: center\">0/0</td><td style=\"text-align: center\">./.</td><td style=\"text-align: center\">0/0</td><td style=\"text-align: center\">0/0</td><td style=\"text-align: center\">0/0</td></tr><tr><th style=\"text-align: center; background-color: white; border-right: 1px solid black; \">2</th><td style=\"text-align: center\">0/0</td><td style=\"text-align: center\">0/0</td><td style=\"text-align: center\">0/0</td><td style=\"text-align: center\">0/0</td><td style=\"text-align: center\">0/0</td><td style=\"text-align: center\">...</td><td style=\"text-align: center\">0/0</td><td style=\"text-align: center\">./.</td><td style=\"text-align: center\">0/0</td><td style=\"text-align: center\">0/0</td><td style=\"text-align: center\">0/0</td></tr><tr><th style=\"text-align: center; background-color: white; border-right: 1px solid black; \">...</th><td style=\"text-align: center\" colspan=\"12\">...</td></tr><tr><th style=\"text-align: center; background-color: white; border-right: 1px solid black; \">5547460</th><td style=\"text-align: center\">0/0</td><td style=\"text-align: center\">0/0</td><td style=\"text-align: center\">./.</td><td style=\"text-align: center\">0/0</td><td style=\"text-align: center\">0/0</td><td style=\"text-align: center\">...</td><td style=\"text-align: center\">0/0</td><td style=\"text-align: center\">0/0</td><td style=\"text-align: center\">0/0</td><td style=\"text-align: center\">0/0</td><td style=\"text-align: center\">0/0</td></tr><tr><th style=\"text-align: center; background-color: white; border-right: 1px solid black; \">5547461</th><td style=\"text-align: center\">0/0</td><td style=\"text-align: center\">0/0</td><td style=\"text-align: center\">./.</td><td style=\"text-align: center\">0/0</td><td style=\"text-align: center\">0/0</td><td style=\"text-align: center\">...</td><td style=\"text-align: center\">0/0</td><td style=\"text-align: center\">0/0</td><td style=\"text-align: center\">0/0</td><td style=\"text-align: center\">0/0</td><td style=\"text-align: center\">0/0</td></tr><tr><th style=\"text-align: center; background-color: white; border-right: 1px solid black; \">5547462</th><td style=\"text-align: center\">0/0</td><td style=\"text-align: center\">0/0</td><td style=\"text-align: center\">./.</td><td style=\"text-align: center\">0/0</td><td style=\"text-align: center\">0/0</td><td style=\"text-align: center\">...</td><td style=\"text-align: center\">0/0</td><td style=\"text-align: center\">0/0</td><td style=\"text-align: center\">0/0</td><td style=\"text-align: center\">0/0</td><td style=\"text-align: center\">0/0</td></tr></tbody></table></div>"
      ],
      "text/plain": [
       "<GenotypeArray shape=(5547463, 66, 2) dtype=int8>\n",
       "0/0 0/0 0/0 0/0 0/0 ... 0/0 ./. 0/0 0/0 0/0\n",
       "0/0 0/0 0/0 0/0 0/0 ... 0/0 ./. 0/0 0/0 0/0\n",
       "0/0 0/0 0/0 0/0 0/0 ... 0/0 ./. 0/0 0/0 0/0\n",
       "...\n",
       "0/0 0/0 ./. 0/0 0/0 ... 0/0 0/0 0/0 0/0 0/0\n",
       "0/0 0/0 ./. 0/0 0/0 ... 0/0 0/0 0/0 0/0 0/0\n",
       "0/0 0/0 ./. 0/0 0/0 ... 0/0 0/0 0/0 0/0 0/0"
      ]
     },
     "execution_count": 6,
     "metadata": {},
     "output_type": "execute_result"
    }
   ],
   "source": [
    "# Inspect the unfiltered san data.\n",
    "san_dicc['GT']"
   ]
  },
  {
   "cell_type": "code",
   "execution_count": 7,
   "metadata": {},
   "outputs": [
    {
     "data": {
      "text/html": [
       "<div class=\"allel allel-DisplayAs2D\"><span>&lt;GenotypeArray shape=(5792568, 66, 2) dtype=int8&gt;</span><table><thead><tr><th></th><th style=\"text-align: center\">0</th><th style=\"text-align: center\">1</th><th style=\"text-align: center\">2</th><th style=\"text-align: center\">3</th><th style=\"text-align: center\">4</th><th style=\"text-align: center\">...</th><th style=\"text-align: center\">61</th><th style=\"text-align: center\">62</th><th style=\"text-align: center\">63</th><th style=\"text-align: center\">64</th><th style=\"text-align: center\">65</th></tr></thead><tbody><tr><th style=\"text-align: center; background-color: white; border-right: 1px solid black; \">0</th><td style=\"text-align: center\">0/0</td><td style=\"text-align: center\">0/0</td><td style=\"text-align: center\">0/0</td><td style=\"text-align: center\">0/0</td><td style=\"text-align: center\">0/0</td><td style=\"text-align: center\">...</td><td style=\"text-align: center\">0/0</td><td style=\"text-align: center\">0/0</td><td style=\"text-align: center\">0/0</td><td style=\"text-align: center\">0/0</td><td style=\"text-align: center\">0/0</td></tr><tr><th style=\"text-align: center; background-color: white; border-right: 1px solid black; \">1</th><td style=\"text-align: center\">0/0</td><td style=\"text-align: center\">0/0</td><td style=\"text-align: center\">0/0</td><td style=\"text-align: center\">0/0</td><td style=\"text-align: center\">0/0</td><td style=\"text-align: center\">...</td><td style=\"text-align: center\">0/0</td><td style=\"text-align: center\">0/0</td><td style=\"text-align: center\">0/0</td><td style=\"text-align: center\">0/0</td><td style=\"text-align: center\">0/0</td></tr><tr><th style=\"text-align: center; background-color: white; border-right: 1px solid black; \">2</th><td style=\"text-align: center\">0/0</td><td style=\"text-align: center\">0/0</td><td style=\"text-align: center\">0/0</td><td style=\"text-align: center\">0/0</td><td style=\"text-align: center\">0/0</td><td style=\"text-align: center\">...</td><td style=\"text-align: center\">0/0</td><td style=\"text-align: center\">0/0</td><td style=\"text-align: center\">0/0</td><td style=\"text-align: center\">0/0</td><td style=\"text-align: center\">0/0</td></tr><tr><th style=\"text-align: center; background-color: white; border-right: 1px solid black; \">...</th><td style=\"text-align: center\" colspan=\"12\">...</td></tr><tr><th style=\"text-align: center; background-color: white; border-right: 1px solid black; \">5792565</th><td style=\"text-align: center\">0/0</td><td style=\"text-align: center\">0/0</td><td style=\"text-align: center\">0/0</td><td style=\"text-align: center\">0/0</td><td style=\"text-align: center\">0/0</td><td style=\"text-align: center\">...</td><td style=\"text-align: center\">0/0</td><td style=\"text-align: center\">0/0</td><td style=\"text-align: center\">0/0</td><td style=\"text-align: center\">0/0</td><td style=\"text-align: center\">0/0</td></tr><tr><th style=\"text-align: center; background-color: white; border-right: 1px solid black; \">5792566</th><td style=\"text-align: center\">0/0</td><td style=\"text-align: center\">0/0</td><td style=\"text-align: center\">0/0</td><td style=\"text-align: center\">0/0</td><td style=\"text-align: center\">0/0</td><td style=\"text-align: center\">...</td><td style=\"text-align: center\">0/0</td><td style=\"text-align: center\">0/0</td><td style=\"text-align: center\">0/0</td><td style=\"text-align: center\">0/0</td><td style=\"text-align: center\">0/0</td></tr><tr><th style=\"text-align: center; background-color: white; border-right: 1px solid black; \">5792567</th><td style=\"text-align: center\">0/0</td><td style=\"text-align: center\">0/0</td><td style=\"text-align: center\">0/0</td><td style=\"text-align: center\">0/0</td><td style=\"text-align: center\">0/0</td><td style=\"text-align: center\">...</td><td style=\"text-align: center\">0/0</td><td style=\"text-align: center\">0/0</td><td style=\"text-align: center\">0/0</td><td style=\"text-align: center\">0/0</td><td style=\"text-align: center\">0/0</td></tr></tbody></table></div>"
      ],
      "text/plain": [
       "<GenotypeArray shape=(5792568, 66, 2) dtype=int8>\n",
       "0/0 0/0 0/0 0/0 0/0 ... 0/0 0/0 0/0 0/0 0/0\n",
       "0/0 0/0 0/0 0/0 0/0 ... 0/0 0/0 0/0 0/0 0/0\n",
       "0/0 0/0 0/0 0/0 0/0 ... 0/0 0/0 0/0 0/0 0/0\n",
       "...\n",
       "0/0 0/0 0/0 0/0 0/0 ... 0/0 0/0 0/0 0/0 0/0\n",
       "0/0 0/0 0/0 0/0 0/0 ... 0/0 0/0 0/0 0/0 0/0\n",
       "0/0 0/0 0/0 0/0 0/0 ... 0/0 0/0 0/0 0/0 0/0"
      ]
     },
     "execution_count": 7,
     "metadata": {},
     "output_type": "execute_result"
    }
   ],
   "source": [
    "# Inspect the unfiltered yak data.\n",
    "yak_dicc['GT']"
   ]
  },
  {
   "cell_type": "code",
   "execution_count": 8,
   "metadata": {},
   "outputs": [
    {
     "data": {
      "image/png": "[encoded data removed]",
      "text/plain": [
       "<Figure size 1800x1200 with 1 Axes>"
      ]
     },
     "metadata": {
      "needs_background": "light"
     },
     "output_type": "display_data"
    }
   ],
   "source": [
    "# Plot the distribution of total number of missing samples per site.\n",
    "# Intialize the figure.\n",
    "fig = plt.figure(figsize=(6, 4), constrained_layout=True, dpi=300)\n",
    "# Intialize the axes.\n",
    "ax = fig.add_subplot(111)\n",
    "# Plot a histogram of missing data.\n",
    "ax.hist(\n",
    "    san_dicc['GT'].count_missing(axis=1), bins=np.arange(0, 67),\n",
    "    histtype='stepfilled', alpha=0.5, color='tab:blue', label='san',\n",
    ")\n",
    "ax.hist(\n",
    "    yak_dicc['GT'].count_missing(axis=1), bins=np.arange(0, 67),\n",
    "    histtype='stepfilled', alpha=0.5,  color='tab:orange', label='yak',\n",
    ")\n",
    "# Despine the axes.\n",
    "ax.spines['top'].set_visible(False)\n",
    "ax.spines['right'].set_visible(False)\n",
    "# Intialize the legend.\n",
    "ax.legend(loc='center left', bbox_to_anchor=(1.0, 0.5), frameon=False)\n",
    "# Label the axes.\n",
    "plt.xlabel('Number of Missing Genotypes  (n = 66)')\n",
    "plt.ylabel('Frequency')\n",
    "# Show!\n",
    "plt.show()"
   ]
  },
  {
   "cell_type": "code",
   "execution_count": 9,
   "metadata": {},
   "outputs": [],
   "source": [
    "# Intialize dictionaries.\n",
    "san_pop_dicc = {}\n",
    "yak_pop_dicc = {}\n",
    "# For every population.\n",
    "for key in idx_dicc.keys():\n",
    "    # Intialize the dictionary.\n",
    "    san_pop_dicc[key] = {}\n",
    "    yak_pop_dicc[key] = {}\n",
    "    # Fill the dictionaries.\n",
    "    san_pop_dicc[key]['GT'] = san_dicc['GT'].take(idx_dicc[key], axis=1)\n",
    "    yak_pop_dicc[key]['GT'] = yak_dicc['GT'].take(idx_dicc[key], axis=1)"
   ]
  },
  {
   "cell_type": "code",
   "execution_count": 10,
   "metadata": {},
   "outputs": [],
   "source": [
    "# For every population.\n",
    "for pop in ['san', 'yak_symp', 'yak_allo', 'tei']:\n",
    "    # Determine the sites with 90% of samples called.\n",
    "    san_pop_dicc[pop]['C_IDX'] = np.where(\n",
    "        san_pop_dicc[pop]['GT'].count_called(axis=1) >= (san_pop_dicc[pop]['GT'].shape[1] * 0.9),\n",
    "    )[0]\n",
    "    yak_pop_dicc[pop]['C_IDX'] = np.where(\n",
    "        yak_pop_dicc[pop]['GT'].count_called(axis=1) >= (yak_pop_dicc[pop]['GT'].shape[1] * 0.9),\n",
    "    )[0]"
   ]
  },
  {
   "cell_type": "code",
   "execution_count": 11,
   "metadata": {},
   "outputs": [],
   "source": [
    "# Determine the indicies where all samples are called.\n",
    "san_all_call_idx = reduce(\n",
    "    np.intersect1d,(\n",
    "        san_pop_dicc['san']['C_IDX'], san_pop_dicc['yak_symp']['C_IDX'],\n",
    "        san_pop_dicc['yak_allo']['C_IDX'], san_pop_dicc['tei']['C_IDX'],\n",
    "    ),\n",
    ")\n",
    "yak_all_call_idx = reduce(\n",
    "    np.intersect1d,(\n",
    "        yak_pop_dicc['san']['C_IDX'], yak_pop_dicc['yak_symp']['C_IDX'],\n",
    "        yak_pop_dicc['yak_allo']['C_IDX'], yak_pop_dicc['tei']['C_IDX'],\n",
    "    ),\n",
    ")"
   ]
  },
  {
   "cell_type": "code",
   "execution_count": 12,
   "metadata": {},
   "outputs": [],
   "source": [
    "# Build data frame dictionaries.\n",
    "san_filter_dicc = {\n",
    "    'CHROM': san_dicc['CHROM'][san_all_call_idx],\n",
    "    'POS': san_dicc['POS'][san_all_call_idx],\n",
    "}\n",
    "yak_filter_dicc = {\n",
    "    'CHROM': yak_dicc['CHROM'][yak_all_call_idx],\n",
    "    'POS': yak_dicc['POS'][yak_all_call_idx],\n",
    "}\n",
    "# Intialize data frames.\n",
    "san_filter_df = pd.DataFrame(data=san_filter_dicc)\n",
    "yak_filter_df = pd.DataFrame(data=yak_filter_dicc)\n",
    "# Export the files filtering.\n",
    "# san_filter_df.to_csv('../vcfs/san_qc_passed_sites.txt', sep='\\t', header=False, index=False)\n",
    "# yak_filter_df.to_csv('../vcfs/yak_qc_passed_sites.txt', sep='\\t', header=False, index=False)"
   ]
  },
  {
   "cell_type": "code",
   "execution_count": 13,
   "metadata": {},
   "outputs": [],
   "source": [
    "# # For every chromosome...\n",
    "# for chrom in ['2L', '2R', '3L', '3R', '4', 'X']:\n",
    "#     # Export the individual chromosome mapping.\n",
    "#     san_chrom_df = san_filter_df[san_filter_df['CHROM'] == chrom]\n",
    "#     yak_chrom_df = yak_filter_df[yak_filter_df['CHROM'] == chrom]\n",
    "#     san_chrom_df.to_csv(f'../vcfs/san_qc_passed_sites_chr{chrom}.txt', sep='\\t', header=False, index=False)\n",
    "#     yak_chrom_df.to_csv(f'../vcfs/yak_qc_passed_sites_chr{chrom}.txt', sep='\\t', header=False, index=False)"
   ]
  },
  {
   "cell_type": "markdown",
   "metadata": {},
   "source": [
    "## Identifying Positions of 1:1 Orthologs"
   ]
  },
  {
   "cell_type": "code",
   "execution_count": 14,
   "metadata": {},
   "outputs": [
    {
     "name": "stderr",
     "output_type": "stream",
     "text": [
      "/tmp/ipykernel_120845/4209385292.py:2: ParserWarning: Falling back to the 'python' engine because the 'c' engine does not support skipfooter; you can avoid this warning by specifying engine='python'.\n",
      "  san_gff_df = pd.read_csv(\n",
      "/tmp/ipykernel_120845/4209385292.py:7: ParserWarning: Falling back to the 'python' engine because the 'c' engine does not support skipfooter; you can avoid this warning by specifying engine='python'.\n",
      "  yak_gff_df = pd.read_csv(\n"
     ]
    }
   ],
   "source": [
    "# Read in the san gff file.\n",
    "san_gff_df = pd.read_csv(\n",
    "    '../annotations/Dsan.genomic.gff.gz', sep='\\t', skiprows=8, skipfooter=1,\n",
    "    names=['seqid', 'source', 'type', 'start', 'end', 'score', 'strand', 'phase', 'attributes'],\n",
    ")\n",
    "# Read in the yak gff file.\n",
    "yak_gff_df = pd.read_csv(\n",
    "    '../annotations/Dyak.genomic.gff.gz', sep='\\t', skiprows=8, skipfooter=1,\n",
    "    names=['seqid', 'source', 'type', 'start', 'end', 'score', 'strand', 'phase', 'attributes'],\n",
    ")"
   ]
  },
  {
   "cell_type": "code",
   "execution_count": 15,
   "metadata": {},
   "outputs": [],
   "source": [
    "# Filter everything, but genes.\n",
    "san_gene_gff_df = san_gff_df[(san_gff_df['type'] == 'gene') & (san_gff_df['source'] == 'Gnomon')].reset_index(drop=True)\n",
    "yak_gene_gff_df = yak_gff_df[(yak_gff_df['type'] == 'gene') & (yak_gff_df['source'] == 'Gnomon')].reset_index(drop=True)"
   ]
  },
  {
   "cell_type": "code",
   "execution_count": 16,
   "metadata": {},
   "outputs": [],
   "source": [
    "# Define a function to extract gene ids.\n",
    "def find_gene(x):\n",
    "    # Define the pattern.\n",
    "    pattern = re.compile(r'gene=([^;]*)')\n",
    "    # Serach for the match.\n",
    "    match = pattern.search(x)\n",
    "    return match.group(1)"
   ]
  },
  {
   "cell_type": "code",
   "execution_count": 17,
   "metadata": {},
   "outputs": [],
   "source": [
    "# Create a new column with the gene id information.\n",
    "san_gene_gff_df['gene_id'] = san_gene_gff_df['attributes'].apply(find_gene)\n",
    "yak_gene_gff_df['gene_id'] = yak_gene_gff_df['attributes'].apply(find_gene)"
   ]
  },
  {
   "cell_type": "code",
   "execution_count": 18,
   "metadata": {},
   "outputs": [
    {
     "data": {
      "text/html": [
       "<div>\n",
       "<style scoped>\n",
       "    .dataframe tbody tr th:only-of-type {\n",
       "        vertical-align: middle;\n",
       "    }\n",
       "\n",
       "    .dataframe tbody tr th {\n",
       "        vertical-align: top;\n",
       "    }\n",
       "\n",
       "    .dataframe thead th {\n",
       "        text-align: right;\n",
       "    }\n",
       "</style>\n",
       "<table border=\"1\" class=\"dataframe\">\n",
       "  <thead>\n",
       "    <tr style=\"text-align: right;\">\n",
       "      <th></th>\n",
       "      <th>orthogroup</th>\n",
       "      <th>mel</th>\n",
       "      <th>san</th>\n",
       "      <th>yak</th>\n",
       "    </tr>\n",
       "  </thead>\n",
       "  <tbody>\n",
       "    <tr>\n",
       "      <th>0</th>\n",
       "      <td>OG0000947</td>\n",
       "      <td>CG17636</td>\n",
       "      <td>LOC120446823</td>\n",
       "      <td>LOC6531910</td>\n",
       "    </tr>\n",
       "    <tr>\n",
       "      <th>1</th>\n",
       "      <td>OG0000948</td>\n",
       "      <td>RhoGAP1A</td>\n",
       "      <td>LOC120455198</td>\n",
       "      <td>LOC6526243</td>\n",
       "    </tr>\n",
       "    <tr>\n",
       "      <th>2</th>\n",
       "      <td>OG0000949</td>\n",
       "      <td>CG17707</td>\n",
       "      <td>LOC120455199</td>\n",
       "      <td>LOC6523777</td>\n",
       "    </tr>\n",
       "    <tr>\n",
       "      <th>3</th>\n",
       "      <td>OG0000950</td>\n",
       "      <td>tyn</td>\n",
       "      <td>LOC120455200</td>\n",
       "      <td>LOC6523778</td>\n",
       "    </tr>\n",
       "    <tr>\n",
       "      <th>4</th>\n",
       "      <td>OG0000951</td>\n",
       "      <td>CG3038</td>\n",
       "      <td>LOC120455201</td>\n",
       "      <td>LOC6523779</td>\n",
       "    </tr>\n",
       "    <tr>\n",
       "      <th>...</th>\n",
       "      <td>...</td>\n",
       "      <td>...</td>\n",
       "      <td>...</td>\n",
       "      <td>...</td>\n",
       "    </tr>\n",
       "    <tr>\n",
       "      <th>11838</th>\n",
       "      <td>OG0012796</td>\n",
       "      <td>PIP4K</td>\n",
       "      <td>LOC120454840</td>\n",
       "      <td>LOC6523772</td>\n",
       "    </tr>\n",
       "    <tr>\n",
       "      <th>11839</th>\n",
       "      <td>OG0012797</td>\n",
       "      <td>Mitf</td>\n",
       "      <td>LOC120454834</td>\n",
       "      <td>LOC6523773</td>\n",
       "    </tr>\n",
       "    <tr>\n",
       "      <th>11840</th>\n",
       "      <td>OG0012798</td>\n",
       "      <td>Dyrk3</td>\n",
       "      <td>LOC120454870</td>\n",
       "      <td>LOC6523774</td>\n",
       "    </tr>\n",
       "    <tr>\n",
       "      <th>11841</th>\n",
       "      <td>OG0012799</td>\n",
       "      <td>Cadps</td>\n",
       "      <td>LOC120454845</td>\n",
       "      <td>LOC6523775</td>\n",
       "    </tr>\n",
       "    <tr>\n",
       "      <th>11842</th>\n",
       "      <td>OG0012800</td>\n",
       "      <td>Gpa2</td>\n",
       "      <td>LOC120455161</td>\n",
       "      <td>LOC26536371</td>\n",
       "    </tr>\n",
       "  </tbody>\n",
       "</table>\n",
       "<p>11843 rows × 4 columns</p>\n",
       "</div>"
      ],
      "text/plain": [
       "      orthogroup       mel           san          yak\n",
       "0      OG0000947   CG17636  LOC120446823   LOC6531910\n",
       "1      OG0000948  RhoGAP1A  LOC120455198   LOC6526243\n",
       "2      OG0000949   CG17707  LOC120455199   LOC6523777\n",
       "3      OG0000950       tyn  LOC120455200   LOC6523778\n",
       "4      OG0000951    CG3038  LOC120455201   LOC6523779\n",
       "...          ...       ...           ...          ...\n",
       "11838  OG0012796     PIP4K  LOC120454840   LOC6523772\n",
       "11839  OG0012797      Mitf  LOC120454834   LOC6523773\n",
       "11840  OG0012798     Dyrk3  LOC120454870   LOC6523774\n",
       "11841  OG0012799     Cadps  LOC120454845   LOC6523775\n",
       "11842  OG0012800      Gpa2  LOC120455161  LOC26536371\n",
       "\n",
       "[11843 rows x 4 columns]"
      ]
     },
     "execution_count": 18,
     "metadata": {},
     "output_type": "execute_result"
    }
   ],
   "source": [
    "# Load the 1:1 ortholog data.\n",
    "ortholog_df = pd.read_csv(\n",
    "    '../annotations/orthogroup_mel_san_yak_mapping.txt',\n",
    "    sep='\\t', names=['orthogroup', 'mel', 'san', 'yak'],\n",
    ")\n",
    "ortholog_df"
   ]
  },
  {
   "cell_type": "code",
   "execution_count": 19,
   "metadata": {},
   "outputs": [],
   "source": [
    "# Extact the ortholog data.\n",
    "mel_orthologs = ortholog_df['mel'].values\n",
    "san_orthologs = ortholog_df['san'].values\n",
    "yak_orthologs = ortholog_df['yak'].values\n",
    "# Extract the gene id data.\n",
    "san_genes = san_gene_gff_df['gene_id'].values\n",
    "yak_genes = yak_gene_gff_df['gene_id'].values"
   ]
  },
  {
   "cell_type": "code",
   "execution_count": 20,
   "metadata": {},
   "outputs": [],
   "source": [
    "# Create gene masks.\n",
    "san_mask = np.isin(san_genes, san_orthologs)\n",
    "yak_mask = np.isin(yak_genes, yak_orthologs)"
   ]
  },
  {
   "cell_type": "code",
   "execution_count": 21,
   "metadata": {},
   "outputs": [],
   "source": [
    "# Create masked data frames to only include the 1:1 orthologs.\n",
    "san_ortholog_df = san_gene_gff_df[san_mask]\n",
    "yak_ortholog_df = yak_gene_gff_df[yak_mask]"
   ]
  },
  {
   "cell_type": "code",
   "execution_count": 22,
   "metadata": {},
   "outputs": [],
   "source": [
    "# Construct dictionaries to rename the seqids.\n",
    "san_chrom_map_dicc = {\n",
    "    'NC_053016.2': '2L', 'NC_053017.2': '2R',\n",
    "    'NC_053018.2': '3L', 'NC_053019.2': '3R',\n",
    "    'NC_053020.2': '4', 'NC_053021.2': 'X',\n",
    "    'NW_025318933.1': 'UM', 'NW_025318934.1': 'UM',\n",
    "    'NW_025318945.1': 'UM', 'NW_025318991.1': 'UM',\n",
    "    'NW_025318995.1': 'UM', 'NW_025319002.1': 'UM',\n",
    "    'NW_025319012.1': 'UM', 'NW_025319013.1': 'UM',\n",
    "    'NW_025319019.1': 'UM', 'NW_025319021.1': 'UM',\n",
    "}\n",
    "yak_chrom_map_dicc = {\n",
    "    'NC_052527.2': '2L', 'NC_052528.2': '2R',\n",
    "    'NC_052529.2': '3L', 'NC_052530.2': '3R',\n",
    "    'NC_052531.2': '4', 'NC_052526.2': 'X',\n",
    "    'NW_025048783.1': 'UM', 'NW_025048801.1': 'UM',\n",
    "    'NW_025048817.1': 'UM', 'NW_025048824.1': 'UM',\n",
    "}"
   ]
  },
  {
   "cell_type": "code",
   "execution_count": 23,
   "metadata": {},
   "outputs": [
    {
     "name": "stderr",
     "output_type": "stream",
     "text": [
      "/tmp/ipykernel_120845/3319307266.py:2: SettingWithCopyWarning: \n",
      "A value is trying to be set on a copy of a slice from a DataFrame.\n",
      "Try using .loc[row_indexer,col_indexer] = value instead\n",
      "\n",
      "See the caveats in the documentation: https://pandas.pydata.org/pandas-docs/stable/user_guide/indexing.html#returning-a-view-versus-a-copy\n",
      "  san_ortholog_df['chr'] = san_ortholog_df['seqid'].map(san_chrom_map_dicc)\n",
      "/tmp/ipykernel_120845/3319307266.py:3: SettingWithCopyWarning: \n",
      "A value is trying to be set on a copy of a slice from a DataFrame.\n",
      "Try using .loc[row_indexer,col_indexer] = value instead\n",
      "\n",
      "See the caveats in the documentation: https://pandas.pydata.org/pandas-docs/stable/user_guide/indexing.html#returning-a-view-versus-a-copy\n",
      "  yak_ortholog_df['chr'] = yak_ortholog_df['seqid'].map(yak_chrom_map_dicc)\n"
     ]
    }
   ],
   "source": [
    "# Create a chromosome column.\n",
    "san_ortholog_df['chr'] = san_ortholog_df['seqid'].map(san_chrom_map_dicc)\n",
    "yak_ortholog_df['chr'] = yak_ortholog_df['seqid'].map(yak_chrom_map_dicc)"
   ]
  },
  {
   "cell_type": "code",
   "execution_count": 24,
   "metadata": {},
   "outputs": [],
   "source": [
    "# Remove all unmapped chromosomes.\n",
    "san_ortholog_cleaned_df = san_ortholog_df[san_ortholog_df['chr'] != 'UM']\n",
    "yak_ortholog_cleaned_df = yak_ortholog_df[yak_ortholog_df['chr'] != 'UM']\n",
    "# Create the dataframes.\n",
    "san_ortholog_coord_df = san_ortholog_cleaned_df.loc[:, ['gene_id', 'chr', 'start', 'end']].reset_index(drop=True)\n",
    "yak_ortholog_coord_df = yak_ortholog_cleaned_df.loc[:, ['gene_id', 'chr', 'start', 'end']].reset_index(drop=True)\n",
    "# Change the start and end positions to integers.\n",
    "san_ortholog_coord_df['start'] = san_ortholog_coord_df['start'].astype(int)\n",
    "san_ortholog_coord_df['end'] = san_ortholog_coord_df['end'].astype(int)\n",
    "yak_ortholog_coord_df['start'] = yak_ortholog_coord_df['start'].astype(int)\n",
    "yak_ortholog_coord_df['end'] = yak_ortholog_coord_df['end'].astype(int)\n",
    "# Export ortholog coordinate files.\n",
    "# san_ortholog_coord_df.to_csv('../annotations/san_ortholog_coords.txt', sep='\\t', header=False, index=False)\n",
    "# yak_ortholog_coord_df.to_csv('../annotations/yak_ortholog_coords.txt', sep='\\t', header=False, index=False)"
   ]
  },
  {
   "cell_type": "code",
   "execution_count": 25,
   "metadata": {},
   "outputs": [],
   "source": [
    "# Determine the length of each gene.\n",
    "san_ortholog_coord_df['length'] = san_ortholog_coord_df['end'] - san_ortholog_coord_df['start']\n",
    "yak_ortholog_coord_df['length'] = yak_ortholog_coord_df['end'] - yak_ortholog_coord_df['start']"
   ]
  },
  {
   "cell_type": "code",
   "execution_count": 26,
   "metadata": {},
   "outputs": [],
   "source": [
    "# Construct chromosome length dictionaries.\n",
    "san_chrom_len_dicc = {\n",
    "    '2L': 27915280, '2R': 22646313,\n",
    "    '3L': 25621868, '3R': 29038104,\n",
    "    '4': 1429326, 'X': 22631256,\n",
    "}\n",
    "yak_chrom_len_dicc = {\n",
    "    '2L': 31052931, '2R': 23815334,\n",
    "    '3L': 25180761, '3R': 30730773,\n",
    "    '4': 1429802, 'X': 24674056,\n",
    "}"
   ]
  },
  {
   "cell_type": "code",
   "execution_count": 27,
   "metadata": {},
   "outputs": [],
   "source": [
    "# Intialize lists for adjusted starts and ends.\n",
    "san_adj_start = []\n",
    "san_adj_end = []\n",
    "# For all chromosomes.\n",
    "for chrom in san_ortholog_coord_df['chr'].unique():\n",
    "    # Subset the dataframe.\n",
    "    chrom_df = san_ortholog_coord_df[san_ortholog_coord_df['chr'] == chrom]\n",
    "    # Extract the starts, ends, and lengths.\n",
    "    starts = chrom_df['start'].values\n",
    "    ends = chrom_df['end'].values\n",
    "    lengths = chrom_df['length'].values\n",
    "    # For every gene.\n",
    "    for idx in range(lengths.size):\n",
    "        # Extract the information for the gene.\n",
    "        start = starts[idx]\n",
    "        end = ends[idx]\n",
    "        length = lengths[idx]\n",
    "        # Calculate the differntial.\n",
    "        diff = math.ceil((5000 - length) / 2)\n",
    "        # If the length is 5kb or larger.\n",
    "        if length >= 5000:\n",
    "            # Append the adjusted lists.\n",
    "            san_adj_start.append(start)\n",
    "            san_adj_end.append(end)\n",
    "        # Else-if the adjusted end is larger than the chromosome.\n",
    "        elif (end + diff) >  san_chrom_len_dicc[chrom]:\n",
    "            # Find the difference to the end of the chromosome.\n",
    "            end_diff = (end + diff) - san_chrom_len_dicc[chrom]\n",
    "            start_diff = diff + end_diff\n",
    "            # Append the adjusted lists.\n",
    "            san_adj_start.append(start-start_diff)\n",
    "            san_adj_end.append(san_chrom_len_dicc[chrom])\n",
    "        # Else-if the adjusted start is smaller than the chromosome start.\n",
    "        elif (start - diff) <  1:\n",
    "            # Find the difference to the start of the chromosome.\n",
    "            start_diff = start - 1\n",
    "            end_diff = diff + start_diff\n",
    "            # Append the adjusted lists.\n",
    "            san_adj_start.append(1)\n",
    "            san_adj_end.append(end+end_diff)\n",
    "        # Else.\n",
    "        else:\n",
    "            # Append the adjusted lists.\n",
    "            san_adj_start.append(start-diff)\n",
    "            san_adj_end.append(end+diff)"
   ]
  },
  {
   "cell_type": "code",
   "execution_count": 28,
   "metadata": {},
   "outputs": [],
   "source": [
    "# Intialize lists for adjusted starts and ends.\n",
    "yak_adj_start = []\n",
    "yak_adj_end = []\n",
    "# For all chromosomes.\n",
    "for chrom in yak_ortholog_coord_df['chr'].unique():\n",
    "    # Subset the dataframe.\n",
    "    chrom_df = yak_ortholog_coord_df[yak_ortholog_coord_df['chr'] == chrom]\n",
    "    # Extract the starts, ends, and lengths.\n",
    "    starts = chrom_df['start'].values\n",
    "    ends = chrom_df['end'].values\n",
    "    lengths = chrom_df['length'].values\n",
    "    # For every gene.\n",
    "    for idx in range(lengths.size):\n",
    "        # Extract the information for the gene.\n",
    "        start = starts[idx]\n",
    "        end = ends[idx]\n",
    "        length = lengths[idx]\n",
    "        # Calculate the differntial.\n",
    "        diff = math.ceil((5000 - length) / 2)\n",
    "        # If the length is 5kb or larger.\n",
    "        if length >= 5000:\n",
    "            # Append the adjusted lists.\n",
    "            yak_adj_start.append(start)\n",
    "            yak_adj_end.append(end)\n",
    "        # Else-if the adjusted end is larger than the chromosome.\n",
    "        elif (end + diff) >  yak_chrom_len_dicc[chrom]:\n",
    "            # Find the difference to the end of the chromosome.\n",
    "            end_diff = (end + diff) - yak_chrom_len_dicc[chrom]\n",
    "            start_diff = diff + end_diff\n",
    "            # Append the adjusted lists.\n",
    "            yak_adj_start.append(start-start_diff)\n",
    "            yak_adj_end.append(yak_chrom_len_dicc[chrom])\n",
    "        # Else-if the adjusted start is smaller than the chromosome start.\n",
    "        elif (start - diff) <  1:\n",
    "            # Find the difference to the start of the chromosome.\n",
    "            start_diff = start - 1\n",
    "            end_diff = diff + start_diff\n",
    "            # Append the adjusted lists.\n",
    "            yak_adj_start.append(1)\n",
    "            yak_adj_end.append(end+end_diff)\n",
    "        # Else.\n",
    "        else:\n",
    "            # Append the adjusted lists.\n",
    "            yak_adj_start.append(start-diff)\n",
    "            yak_adj_end.append(end+diff)"
   ]
  },
  {
   "cell_type": "code",
   "execution_count": 29,
   "metadata": {},
   "outputs": [],
   "source": [
    "# Create the dataframes.\n",
    "san_ortho_adj_coord_df = san_ortholog_coord_df.loc[:, ['gene_id', 'chr']].reset_index(drop=True)\n",
    "san_ortho_adj_coord_df['start'] = san_adj_start\n",
    "san_ortho_adj_coord_df['end'] = san_adj_end\n",
    "san_ortho_adj_coord_df['length'] = san_ortho_adj_coord_df['end'] - san_ortho_adj_coord_df['start']\n",
    "yak_ortho_adj_coord_df = yak_ortholog_coord_df.loc[:, ['gene_id', 'chr']].reset_index(drop=True)\n",
    "yak_ortho_adj_coord_df['start'] = yak_adj_start\n",
    "yak_ortho_adj_coord_df['end'] = yak_adj_end\n",
    "yak_ortho_adj_coord_df['length'] = yak_ortho_adj_coord_df['end'] - yak_ortho_adj_coord_df['start']\n",
    "# Export the adjusted ortholog coordinate files.\n",
    "# san_ortho_adj_coord_df.to_csv('../annotations/san_ortholog_adj_coords.txt', sep='\\t', header=False, index=False)\n",
    "# yak_ortho_adj_coord_df.to_csv('../annotations/yak_ortholog_adj_coords.txt', sep='\\t', header=False, index=False)"
   ]
  },
  {
   "cell_type": "code",
   "execution_count": 30,
   "metadata": {},
   "outputs": [],
   "source": [
    "# Intialize a dictionary to store coordinates.\n",
    "san_ortho_coord_dicc = {}\n",
    "# For all chromosomes.\n",
    "for chrom in san_ortho_adj_coord_df['chr'].unique():\n",
    "    # Intialize the dictionary.\n",
    "    san_ortho_coord_dicc[chrom] = {}\n",
    "    # Subset the dataframe.\n",
    "    chrom_df = san_ortho_adj_coord_df[san_ortho_adj_coord_df['chr'] == chrom]\n",
    "    # Fill the dictionary.\n",
    "    san_ortho_coord_dicc[chrom]['start'] = chrom_df['start'].values\n",
    "    san_ortho_coord_dicc[chrom]['end'] = chrom_df['end'].values\n",
    "    san_ortho_coord_dicc[chrom]['idx'] = chrom_df.index.values\n",
    "    san_ortho_coord_dicc[chrom]['gene_id'] = chrom_df['gene_id'].values"
   ]
  },
  {
   "cell_type": "code",
   "execution_count": 31,
   "metadata": {},
   "outputs": [],
   "source": [
    "# Intialize a dictionary to store coordinates.\n",
    "yak_ortho_coord_dicc = {}\n",
    "# For all chromosomes.\n",
    "for chrom in yak_ortho_adj_coord_df['chr'].unique():\n",
    "    # Intialize the dictionary.\n",
    "    yak_ortho_coord_dicc[chrom] = {}\n",
    "    # Subset the dataframe.\n",
    "    chrom_df = yak_ortho_adj_coord_df[yak_ortho_adj_coord_df['chr'] == chrom]\n",
    "    # Fill the dictionary.\n",
    "    yak_ortho_coord_dicc[chrom]['start'] = chrom_df['start'].values\n",
    "    yak_ortho_coord_dicc[chrom]['end'] = chrom_df['end'].values\n",
    "    yak_ortho_coord_dicc[chrom]['idx'] = chrom_df.index.values\n",
    "    yak_ortho_coord_dicc[chrom]['gene_id'] = chrom_df['gene_id'].values"
   ]
  },
  {
   "cell_type": "markdown",
   "metadata": {},
   "source": [
    "## Summary"
   ]
  },
  {
   "cell_type": "code",
   "execution_count": 32,
   "metadata": {},
   "outputs": [],
   "source": [
    "# Define a function to load and extract information from a vcf file.\n",
    "def load_filtered_data(prefix):\n",
    "    # Intialize a dictionary.\n",
    "    vcf_dicc = {}\n",
    "    # For every chromosome.\n",
    "    for chrom in ['2L', '2R', '3L', '3R', '4', 'X']:\n",
    "        # Intialize the dictionary.\n",
    "        vcf_dicc[chrom] = {}\n",
    "        # Intialize a path.\n",
    "        path = f'../zarrs/{prefix}/chr{chrom}.zarr'\n",
    "        # Load the vcf file.\n",
    "        callset = zarr.open_group(path, mode='r')\n",
    "        # Extract the positions.\n",
    "        vcf_dicc[chrom]['POS'] = allel.SortedIndex(callset[f'{chrom}/variants/POS'])\n",
    "        # Extract read depth.\n",
    "        vcf_dicc[chrom]['DP'] = callset[f'{chrom}/variants/DP']\n",
    "        # Extract the genotypes.\n",
    "        vcf_dicc[chrom]['GT'] = allel.GenotypeArray(callset[f'{chrom}/calldata/GT'])\n",
    "    return vcf_dicc"
   ]
  },
  {
   "cell_type": "code",
   "execution_count": 33,
   "metadata": {},
   "outputs": [],
   "source": [
    "# Load the data mapped to the san reference.\n",
    "san_chrom_dicc = load_filtered_data('san')\n",
    "# Load the data mapped to the yak reference.\n",
    "yak_chrom_dicc = load_filtered_data('yak')"
   ]
  },
  {
   "cell_type": "code",
   "execution_count": 34,
   "metadata": {},
   "outputs": [],
   "source": [
    "# Intialize a data frame dictionary.\n",
    "vcf_summary_df_dicc = {\n",
    "    'Reference Genome': [\n",
    "        r'$D. santomea$', r'$D. yakuba$',\n",
    "        r'$D. santomea$', r'$D. yakuba$',\n",
    "        r'$D. santomea$', r'$D. yakuba$',\n",
    "        r'$D. santomea$', r'$D. yakuba$',\n",
    "        r'$D. santomea$', r'$D. yakuba$',\n",
    "        r'$D. santomea$', r'$D. yakuba$',\n",
    "    ],\n",
    "    'Chromosome': [],\n",
    "    'Total Sites': [],\n",
    "    'Segregating Sites': [],\n",
    "}\n",
    "# For every chromosome.\n",
    "for chrom in ['2L', '2R', '3L', '3R', '4', 'X']:\n",
    "    # Fill the dictionary.\n",
    "    vcf_summary_df_dicc['Chromosome'].append(chrom)\n",
    "    vcf_summary_df_dicc['Total Sites'].append(san_chrom_dicc[chrom]['GT'].shape[0])\n",
    "    vcf_summary_df_dicc['Segregating Sites'].append(san_chrom_dicc[chrom]['GT'].count_alleles().count_segregating())\n",
    "    vcf_summary_df_dicc['Chromosome'].append(chrom)\n",
    "    vcf_summary_df_dicc['Total Sites'].append(yak_chrom_dicc[chrom]['GT'].shape[0])\n",
    "    vcf_summary_df_dicc['Segregating Sites'].append(yak_chrom_dicc[chrom]['GT'].count_alleles().count_segregating())\n",
    "# Intialize the data frame.\n",
    "vcf_summary_df = pd.DataFrame(data=vcf_summary_df_dicc)"
   ]
  },
  {
   "cell_type": "code",
   "execution_count": 35,
   "metadata": {},
   "outputs": [
    {
     "data": {
      "text/html": [
       "<div>\n",
       "<style scoped>\n",
       "    .dataframe tbody tr th:only-of-type {\n",
       "        vertical-align: middle;\n",
       "    }\n",
       "\n",
       "    .dataframe tbody tr th {\n",
       "        vertical-align: top;\n",
       "    }\n",
       "\n",
       "    .dataframe thead th {\n",
       "        text-align: right;\n",
       "    }\n",
       "</style>\n",
       "<table border=\"1\" class=\"dataframe\">\n",
       "  <thead>\n",
       "    <tr style=\"text-align: right;\">\n",
       "      <th></th>\n",
       "      <th>Reference Genome</th>\n",
       "      <th>Chromosome</th>\n",
       "      <th>Total Sites</th>\n",
       "      <th>Segregating Sites</th>\n",
       "    </tr>\n",
       "  </thead>\n",
       "  <tbody>\n",
       "    <tr>\n",
       "      <th>0</th>\n",
       "      <td>$D. santomea$</td>\n",
       "      <td>2L</td>\n",
       "      <td>812044</td>\n",
       "      <td>40302</td>\n",
       "    </tr>\n",
       "    <tr>\n",
       "      <th>1</th>\n",
       "      <td>$D. yakuba$</td>\n",
       "      <td>2L</td>\n",
       "      <td>852160</td>\n",
       "      <td>42809</td>\n",
       "    </tr>\n",
       "    <tr>\n",
       "      <th>2</th>\n",
       "      <td>$D. santomea$</td>\n",
       "      <td>2R</td>\n",
       "      <td>927802</td>\n",
       "      <td>51672</td>\n",
       "    </tr>\n",
       "    <tr>\n",
       "      <th>3</th>\n",
       "      <td>$D. yakuba$</td>\n",
       "      <td>2R</td>\n",
       "      <td>946632</td>\n",
       "      <td>50857</td>\n",
       "    </tr>\n",
       "    <tr>\n",
       "      <th>4</th>\n",
       "      <td>$D. santomea$</td>\n",
       "      <td>3L</td>\n",
       "      <td>1226498</td>\n",
       "      <td>68689</td>\n",
       "    </tr>\n",
       "    <tr>\n",
       "      <th>5</th>\n",
       "      <td>$D. yakuba$</td>\n",
       "      <td>3L</td>\n",
       "      <td>1340087</td>\n",
       "      <td>76023</td>\n",
       "    </tr>\n",
       "    <tr>\n",
       "      <th>6</th>\n",
       "      <td>$D. santomea$</td>\n",
       "      <td>3R</td>\n",
       "      <td>1732184</td>\n",
       "      <td>90607</td>\n",
       "    </tr>\n",
       "    <tr>\n",
       "      <th>7</th>\n",
       "      <td>$D. yakuba$</td>\n",
       "      <td>3R</td>\n",
       "      <td>1796520</td>\n",
       "      <td>95804</td>\n",
       "    </tr>\n",
       "    <tr>\n",
       "      <th>8</th>\n",
       "      <td>$D. santomea$</td>\n",
       "      <td>4</td>\n",
       "      <td>85103</td>\n",
       "      <td>1800</td>\n",
       "    </tr>\n",
       "    <tr>\n",
       "      <th>9</th>\n",
       "      <td>$D. yakuba$</td>\n",
       "      <td>4</td>\n",
       "      <td>81575</td>\n",
       "      <td>1657</td>\n",
       "    </tr>\n",
       "    <tr>\n",
       "      <th>10</th>\n",
       "      <td>$D. santomea$</td>\n",
       "      <td>X</td>\n",
       "      <td>763832</td>\n",
       "      <td>33296</td>\n",
       "    </tr>\n",
       "    <tr>\n",
       "      <th>11</th>\n",
       "      <td>$D. yakuba$</td>\n",
       "      <td>X</td>\n",
       "      <td>775594</td>\n",
       "      <td>33648</td>\n",
       "    </tr>\n",
       "  </tbody>\n",
       "</table>\n",
       "</div>"
      ],
      "text/plain": [
       "   Reference Genome Chromosome  Total Sites  Segregating Sites\n",
       "0     $D. santomea$         2L       812044              40302\n",
       "1       $D. yakuba$         2L       852160              42809\n",
       "2     $D. santomea$         2R       927802              51672\n",
       "3       $D. yakuba$         2R       946632              50857\n",
       "4     $D. santomea$         3L      1226498              68689\n",
       "5       $D. yakuba$         3L      1340087              76023\n",
       "6     $D. santomea$         3R      1732184              90607\n",
       "7       $D. yakuba$         3R      1796520              95804\n",
       "8     $D. santomea$          4        85103               1800\n",
       "9       $D. yakuba$          4        81575               1657\n",
       "10    $D. santomea$          X       763832              33296\n",
       "11      $D. yakuba$          X       775594              33648"
      ]
     },
     "execution_count": 35,
     "metadata": {},
     "output_type": "execute_result"
    }
   ],
   "source": [
    "# View the summary dataframe.\n",
    "vcf_summary_df"
   ]
  },
  {
   "cell_type": "code",
   "execution_count": 36,
   "metadata": {},
   "outputs": [],
   "source": [
    "# Intialize lists.\n",
    "san_tot = []\n",
    "san_seg = []\n",
    "# For every chromosome.\n",
    "for chrom in san_ortho_adj_coord_df['chr'].unique():\n",
    "    # Extract the starts, ends, and all positions.\n",
    "    starts = san_ortho_coord_dicc[chrom]['start']\n",
    "    ends = san_ortho_coord_dicc[chrom]['end']\n",
    "    all_pos = san_chrom_dicc[chrom]['POS']\n",
    "    # For all start and end positions.\n",
    "    for idx in range(starts.size):\n",
    "        # Extract the start and end positions.\n",
    "        start = starts[idx]\n",
    "        end = ends[idx]\n",
    "        # Determine the positions for this gene.\n",
    "        gene_idx = np.where(((start <= all_pos) & (all_pos <= end)))[0]\n",
    "        # If there are no sites in this gene.\n",
    "        if gene_idx.size == 0:\n",
    "            # Append the lists.\n",
    "            san_tot.append(0)\n",
    "            san_seg.append(0)\n",
    "        # Else.\n",
    "        else:\n",
    "            # Append the lists.\n",
    "            san_tot.append(san_chrom_dicc[chrom]['GT'].take(gene_idx, axis=0).shape[0])\n",
    "            san_seg.append(san_chrom_dicc[chrom]['GT'].take(gene_idx, axis=0).count_alleles().count_segregating())"
   ]
  },
  {
   "cell_type": "code",
   "execution_count": 37,
   "metadata": {},
   "outputs": [],
   "source": [
    "# Intialize lists.\n",
    "yak_tot = []\n",
    "yak_seg = []\n",
    "# For every chromosome.\n",
    "for chrom in yak_ortho_adj_coord_df['chr'].unique():\n",
    "    # Extract the starts, ends, and all positions.\n",
    "    starts = yak_ortho_coord_dicc[chrom]['start']\n",
    "    ends = yak_ortho_coord_dicc[chrom]['end']\n",
    "    all_pos = yak_chrom_dicc[chrom]['POS']\n",
    "    # For all start and end positions.\n",
    "    for idx in range(starts.size):\n",
    "        # Extract the start and end positions.\n",
    "        start = starts[idx]\n",
    "        end = ends[idx]\n",
    "        # Determine the positions for this gene.\n",
    "        gene_idx = np.where(((start <= all_pos) & (all_pos <= end)))[0]\n",
    "        # If there are no sites in this gene.\n",
    "        if gene_idx.size == 0:\n",
    "            # Append the lists.\n",
    "            yak_tot.append(0)\n",
    "            yak_seg.append(0)\n",
    "        # Else.\n",
    "        else:\n",
    "            # Append the lists.\n",
    "            yak_tot.append(yak_chrom_dicc[chrom]['GT'].take(gene_idx, axis=0).shape[0])\n",
    "            yak_seg.append(yak_chrom_dicc[chrom]['GT'].take(gene_idx, axis=0).count_alleles().count_segregating())"
   ]
  },
  {
   "cell_type": "code",
   "execution_count": 38,
   "metadata": {},
   "outputs": [],
   "source": [
    "# Update the adjusted orthlog data frames.\n",
    "san_ortho_adj_coord_df['tot_sites'] = san_tot\n",
    "san_ortho_adj_coord_df['seg_sites'] = san_seg\n",
    "yak_ortho_adj_coord_df['tot_sites'] = yak_tot\n",
    "yak_ortho_adj_coord_df['seg_sites'] = yak_seg\n",
    "# Filter out genes that have no sites.\n",
    "san_ortho_qc_coord_df = san_ortho_adj_coord_df[san_ortho_adj_coord_df['tot_sites'] != 0].reset_index(drop=True)\n",
    "yak_ortho_qc_coord_df = yak_ortho_adj_coord_df[yak_ortho_adj_coord_df['tot_sites'] != 0].reset_index(drop=True)\n",
    "# # Export the adjusted ortholog coordinate files.\n",
    "# san_ortho_qc_coord_df.to_csv('../annotations/san_ortholog_qc_passed_coords.txt', sep='\\t', header=False, index=False)\n",
    "# yak_ortho_qc_coord_df.to_csv('../annotations/yak_ortholog_qc_passed_coords.txt', sep='\\t', header=False, index=False)"
   ]
  },
  {
   "cell_type": "code",
   "execution_count": 42,
   "metadata": {},
   "outputs": [],
   "source": [
    "# # For every chromosome...\n",
    "# for chrom in ['2L', '2R', '3L', '3R', '4', 'X']:\n",
    "#     # Export the individual chromosome mapping.\n",
    "#     san_chrom_df = san_ortho_qc_coord_df[san_ortho_qc_coord_df['chr'] == chrom]\n",
    "#     yak_chrom_df = yak_ortho_qc_coord_df[yak_ortho_qc_coord_df['chr'] == chrom]\n",
    "#     san_chrom_df.to_csv(f'../annotations/san_ortholog_qc_passed_coords_chr{chrom}.txt', sep='\\t', header=False, index=False)\n",
    "#     yak_chrom_df.to_csv(f'../annotations/yak_ortholog_qc_passed_coords_chr{chrom}.txt', sep='\\t', header=False, index=False)"
   ]
  },
  {
   "cell_type": "code",
   "execution_count": null,
   "metadata": {},
   "outputs": [],
   "source": []
  }
 ],
 "metadata": {
  "kernelspec": {
   "display_name": "anc_der_intro_env",
   "language": "python",
   "name": "anc_der_intro_env"
  },
  "language_info": {
   "codemirror_mode": {
    "name": "ipython",
    "version": 3
   },
   "file_extension": ".py",
   "mimetype": "text/x-python",
   "name": "python",
   "nbconvert_exporter": "python",
   "pygments_lexer": "ipython3",
   "version": "3.10.2"
  }
 },
 "nbformat": 4,
 "nbformat_minor": 2
}
